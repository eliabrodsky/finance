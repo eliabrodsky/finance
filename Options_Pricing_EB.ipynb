{
  "nbformat": 4,
  "nbformat_minor": 0,
  "metadata": {
    "colab": {
      "provenance": [],
      "authorship_tag": "ABX9TyPuOQY0FOtgSTGeEMUVdlrU",
      "include_colab_link": true
    },
    "kernelspec": {
      "name": "python3",
      "display_name": "Python 3"
    },
    "language_info": {
      "name": "python"
    }
  },
  "cells": [
    {
      "cell_type": "markdown",
      "metadata": {
        "id": "view-in-github",
        "colab_type": "text"
      },
      "source": [
        "<a href=\"https://colab.research.google.com/github/eliabrodsky/finance/blob/main/Options_Pricing_EB.ipynb\" target=\"_parent\"><img src=\"https://colab.research.google.com/assets/colab-badge.svg\" alt=\"Open In Colab\"/></a>"
      ]
    },
    {
      "cell_type": "markdown",
      "source": [
        "#  The Black Scholes Option Pricing Model\n",
        "\n",
        "The Black-Scholes(/Merton) model is the most commonly used formula used to price stock options.  Given the following inputs: \n",
        "  \n",
        "* C = Call option price \n",
        "* S = Current stock price\n",
        "* K = Exercise price\n",
        "* r = Risk-free interest rate\n",
        "* $\\sigma$ = Volatility (standard deviation) of the stock return\n",
        "* t = Time to maturity (in years)\n",
        "  \n",
        "The value of a European call option is given by:"
      ],
      "metadata": {
        "id": "HiNlGGZjSHiT"
      }
    },
    {
      "cell_type": "markdown",
      "source": [
        "\n",
        "\\begin{equation}\n",
        "\t\\mathrm C= \\mathrm N(\\mathrm d_1)\\mathrm S - \\mathrm N(\\mathrm d_2) \\mathrm K \\mathrm e^{-rt}\n",
        "\\end{equation}\n",
        "\n",
        "\\begin{equation}\n",
        "\t\\mathrm d_1= \\frac{1}{\\sigma \\sqrt{\\mathrm t}} \\left[\\ln{\\left(\\frac{S}{K}\\right)} + t\\left(r + \\frac{\\sigma^2}{2} \\right) \\right]\n",
        "\\end{equation}\n",
        "\n",
        "\\begin{equation}\n",
        "\t\\mathrm d_2= d_1 - \\sigma \\sqrt{\\mathrm t}\n",
        "\\end{equation}"
      ],
      "metadata": {
        "id": "KDWHWDhnSMCn"
      }
    },
    {
      "cell_type": "markdown",
      "source": [
        "**Exercise 1**  \n",
        "Write a Python function that takes the inputs of the formula and returns the Black Scholes value for a European call option.  Below we import the numpy and matplotlib.pyplot libraries.  We also import the stats package from scipy (Scientific Python).  \n",
        "You will need to use the following functions:  \n",
        "* np.sqrt(x) is the numpy formula to calculate the square root of x (works on numpy arrays)\n",
        "* np.exp(x) is the numpy exponential formula-- raises e to the power of x (works on numpy arrays)\n",
        "* np.log(x) is the numpy formula to calculate the nature log (ln) of x (works on numpy arrays)\n",
        "* stats.norm.cdf(x) returns the cumulative normal density function of x, assuming a mean of 0 and standard deviation of 1\n",
        "\n",
        "Where N() is the cumulative standard normal density function."
      ],
      "metadata": {
        "id": "zNqCKEtASP7k"
      }
    },
    {
      "cell_type": "code",
      "execution_count": 1,
      "metadata": {
        "id": "X5nQtCacR1B4"
      },
      "outputs": [],
      "source": [
        "import numpy as np\n",
        "import matplotlib.pyplot as plt\n",
        "import scipy.stats as stats\n",
        "\n",
        "def BS_Call(S,K,r,sigma,t):\n",
        "    d1=1/(sigma*np.sqrt(t))*(np.log(S/K)+t*(r+sigma**2/2))\n",
        "    d2=d1-sigma*np.sqrt(t)\n",
        "    C=stats.norm.cdf(d1)*S-stats.norm.cdf(d2)*K*np.exp(-r*t)\n",
        "    return(C)"
      ]
    },
    {
      "cell_type": "markdown",
      "source": [
        "Test the function using the following inputs:  \n",
        "* S = 60\n",
        "* K = 60\n",
        "* r = 8%\n",
        "* $\\sigma$ = 30%\n",
        "* t = 0.5"
      ],
      "metadata": {
        "id": "-kcEw6r7SYXJ"
      }
    },
    {
      "cell_type": "code",
      "source": [
        "p = BS_Call(60,60,0.08,0.3,0.5)\n",
        "print(\"The value of the European option is $\", p.round(2))"
      ],
      "metadata": {
        "colab": {
          "base_uri": "https://localhost:8080/"
        },
        "id": "kKhYc4ooSab7",
        "outputId": "e325dae5-a53b-4528-bbef-994eca78371f"
      },
      "execution_count": 9,
      "outputs": [
        {
          "output_type": "stream",
          "name": "stdout",
          "text": [
            "The value of the European option is $ 6.23\n"
          ]
        }
      ]
    },
    {
      "cell_type": "markdown",
      "source": [
        "Create a graph of the call value vs the stock price, with the stock price ranging from 30 to 70 in increments of 0.1, assuming the rest of the values are as above. \n",
        "If you used the np. and stats. functions discussed above, you should be able to create ys by simply using the Black Scholes function you created above on a numpy arange."
      ],
      "metadata": {
        "id": "__UgABOjUP0k"
      }
    },
    {
      "cell_type": "code",
      "source": [
        "xs=np.arange(30,70.1,.1)\n",
        "ys=BS_Call(xs,60,.08,.3,.5)\n",
        "plt.plot(xs,ys)\n",
        "plt.show()"
      ],
      "metadata": {
        "colab": {
          "base_uri": "https://localhost:8080/",
          "height": 265
        },
        "id": "SC7l0WCGUJqx",
        "outputId": "c290aa38-78f9-4175-b150-25555b3c5683"
      },
      "execution_count": 10,
      "outputs": [
        {
          "output_type": "display_data",
          "data": {
            "text/plain": [
              "<Figure size 432x288 with 1 Axes>"
            ],
            "image/png": "[encoded data removed]"
          },
          "metadata": {
            "needs_background": "light"
          }
        }
      ]
    },
    {
      "cell_type": "markdown",
      "source": [
        "**Book Question 10.28 (Modified):** Use the “Options Pricing” spreadsheet provided on Canvas to calculate the (Black-Scholes) value of an American call option on a non-dividend paying stock when the stock price is 30, the strike price is 32, the risk-free rate is 5%, the volatility is 30%, and the time to maturity is 1.5 years. \n",
        "\n",
        "*  S = $30\n",
        "*  K = $32\n",
        "*  r = 0.05\n",
        "*  $\\sigma$ = 0.3\n",
        "*  t = 1.5\n"
      ],
      "metadata": {
        "id": "Xj5clDQTTDv8"
      }
    },
    {
      "cell_type": "code",
      "source": [
        "#input parameters here:\n",
        "S = 30\n",
        "K = 32\n",
        "r = 0.05\n",
        "sigma = 0.3\n",
        "t = 1.5\n",
        "\n",
        "#run function:\n",
        "p = BS_Call(S,K,r,sigma,t)\n",
        "\n",
        "#print results:\n",
        "print(\"The value of the European option is $\", p.round(2))"
      ],
      "metadata": {
        "colab": {
          "base_uri": "https://localhost:8080/"
        },
        "id": "robhpNpmTZza",
        "outputId": "2a14711f-69d5-4793-86fd-f7f17b310379"
      },
      "execution_count": 24,
      "outputs": [
        {
          "output_type": "stream",
          "name": "stdout",
          "text": [
            "The value of the European option is $ 4.51\n"
          ]
        }
      ]
    },
    {
      "cell_type": "code",
      "source": [
        "S=np.arange(30,70.1,.1)\n",
        "p = BS_Call(S,K,r,sigma,t)\n",
        "plt.plot(xs,ys)\n",
        "plt.show()"
      ],
      "metadata": {
        "colab": {
          "base_uri": "https://localhost:8080/",
          "height": 265
        },
        "id": "GnIZU4WvYq0i",
        "outputId": "4ea536a1-c889-46c7-bfec-b10763dfbb7b"
      },
      "execution_count": 25,
      "outputs": [
        {
          "output_type": "display_data",
          "data": {
            "text/plain": [
              "<Figure size 432x288 with 1 Axes>"
            ],
            "image/png": "[encoded data removed]"
          },
          "metadata": {
            "needs_background": "light"
          }
        }
      ]
    },
    {
      "cell_type": "markdown",
      "source": [
        "## Binomial Option Pricing Model (BOPM)\n",
        "\n",
        "https://www.csie.ntu.edu.tw/~d00922011/python/slides/options.pdf"
      ],
      "metadata": {
        "id": "d9RGQxhSd7iH"
      }
    },
    {
      "cell_type": "code",
      "source": [
        "import numpy as np\n",
        "\n",
        "s = 160 # spot price\n",
        "K = 150 # strike price\n",
        "n = 3 # periods\n",
        "R = 1.2 # gross return for each period \n",
        "u = 1.5 #sizeofupmove\n",
        "d = 0.5 #sizeofdownmove\n",
        "p = (R-d)/(u-d) # probability of up move\n",
        "\n",
        "# generate the forward price tree\n",
        "tree = np.zeros([n + 1, n + 1])\n",
        "tree[0, 0] = s\n",
        "for period in range(1, n + 1):\n",
        "    for level in range(period  + 1):\n",
        "        tree[level, period] = s * u ** (period-level) * d ** level\n",
        "\n",
        "# calculate the payoff at expiration\n",
        "for level in range(n + 1):\n",
        "  payoff = tree[level, n]-K\n",
        "  tree[level, n] = payoff if payoff > 0 else 0\n",
        "# calculate the option price at time 0 by backward induction\n",
        "for period in range(n-1,-1,-1):\n",
        "    for level in range(period + 1):\n",
        "        tree[level, period] = (p * tree[level, period + 1] + (1-p) * tree[level + 1, period + 1]) / R\n",
        "print(tree)\n",
        "print(\"c =\", round(tree[0, 0], 2)) "
      ],
      "metadata": {
        "colab": {
          "base_uri": "https://localhost:8080/"
        },
        "id": "GbSzBYkdd96X",
        "outputId": "7631b830-00a6-4b04-c05d-de7aff18be0a"
      },
      "execution_count": 39,
      "outputs": [
        {
          "output_type": "stream",
          "name": "stdout",
          "text": [
            "[[ 85.06944444 141.45833333 235.         390.        ]\n",
            " [  0.          10.20833333  17.5         30.        ]\n",
            " [  0.           0.           0.           0.        ]\n",
            " [  0.           0.           0.           0.        ]]\n",
            "c = 85.07\n"
          ]
        }
      ]
    }
  ]
}